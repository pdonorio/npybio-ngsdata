{
 "cells": [
  {
   "cell_type": "code",
   "execution_count": 14,
   "metadata": {
    "collapsed": false
   },
   "outputs": [],
   "source": [
    "# Using the library\n",
    "library(\"RSQLite\")\n",
    "sqlite <- dbDriver(\"SQLite\")\n",
    "fdb <- \"fsql/mydb.db\"\n",
    "db <- dbConnect(sqlite, fdb)"
   ]
  },
  {
   "cell_type": "code",
   "execution_count": 17,
   "metadata": {
    "collapsed": false
   },
   "outputs": [
    {
     "name": "stderr",
     "output_type": "stream",
     "text": [
      "Warning message:\n",
      "In sqliteSendQuery(con, statement, bind.data): Closing result set with pending rows"
     ]
    }
   ],
   "source": [
    "# Results\n",
    "tables <- dbListTables(db)\n",
    "results <- dbSendQuery(db, paste(\"SELECT * FROM \", tables))\n",
    "data <- fetch(results,10)"
   ]
  },
  {
   "cell_type": "code",
   "execution_count": 18,
   "metadata": {
    "collapsed": false
   },
   "outputs": [
    {
     "data": {
      "text/html": [
       "<table>\n",
       "<thead><tr><th></th><th scope=col>id</th><th scope=col>Chr</th><th scope=col>Start</th><th scope=col>End</th></tr></thead>\n",
       "<tbody>\n",
       "\t<tr><th scope=row>1</th><td>1</td><td>chr1</td><td>10385471</td><td>10385471</td></tr>\n",
       "\t<tr><th scope=row>2</th><td>2</td><td>chr1</td><td>17722363</td><td>17722363</td></tr>\n",
       "\t<tr><th scope=row>3</th><td>3</td><td>chr1</td><td>45796269</td><td>45796269</td></tr>\n",
       "\t<tr><th scope=row>4</th><td>4</td><td>chr1</td><td>45798555</td><td>45798555</td></tr>\n",
       "\t<tr><th scope=row>5</th><td>5</td><td>chr1</td><td>121280613</td><td>121280613</td></tr>\n",
       "\t<tr><th scope=row>6</th><td>6</td><td>chr1</td><td>150860471</td><td>150860471</td></tr>\n",
       "\t<tr><th scope=row>7</th><td>7</td><td>chr1</td><td>161332092</td><td>161332092</td></tr>\n",
       "\t<tr><th scope=row>8</th><td>8</td><td>chr1</td><td>193094375</td><td>193094375</td></tr>\n",
       "\t<tr><th scope=row>9</th><td>9</td><td>chr1</td><td>193107187</td><td>193107187</td></tr>\n",
       "\t<tr><th scope=row>10</th><td>10</td><td>chr1</td><td>222045446</td><td>222045446</td></tr>\n",
       "</tbody>\n",
       "</table>\n"
      ],
      "text/latex": [
       "\\begin{tabular}{r|llll}\n",
       "  & id & Chr & Start & End\\\\\n",
       "\\hline\n",
       "\t1 & 1 & chr1 & 10385471 & 10385471\\\\\n",
       "\t2 & 2 & chr1 & 17722363 & 17722363\\\\\n",
       "\t3 & 3 & chr1 & 45796269 & 45796269\\\\\n",
       "\t4 & 4 & chr1 & 45798555 & 45798555\\\\\n",
       "\t5 & 5 & chr1 & 121280613 & 121280613\\\\\n",
       "\t6 & 6 & chr1 & 150860471 & 150860471\\\\\n",
       "\t7 & 7 & chr1 & 161332092 & 161332092\\\\\n",
       "\t8 & 8 & chr1 & 193094375 & 193094375\\\\\n",
       "\t9 & 9 & chr1 & 193107187 & 193107187\\\\\n",
       "\t10 & 10 & chr1 & 222045446 & 222045446\\\\\n",
       "\\end{tabular}\n"
      ],
      "text/plain": [
       "   id  Chr     Start       End\n",
       "1   1 chr1  10385471  10385471\n",
       "2   2 chr1  17722363  17722363\n",
       "3   3 chr1  45796269  45796269\n",
       "4   4 chr1  45798555  45798555\n",
       "5   5 chr1 121280613 121280613\n",
       "6   6 chr1 150860471 150860471\n",
       "7   7 chr1 161332092 161332092\n",
       "8   8 chr1 193094375 193094375\n",
       "9   9 chr1 193107187 193107187\n",
       "10 10 chr1 222045446 222045446"
      ]
     },
     "execution_count": 18,
     "metadata": {},
     "output_type": "execute_result"
    }
   ],
   "source": [
    "data"
   ]
  },
  {
   "cell_type": "code",
   "execution_count": null,
   "metadata": {
    "collapsed": true
   },
   "outputs": [],
   "source": [
    "*"
   ]
  }
 ],
 "metadata": {
  "kernelspec": {
   "display_name": "R",
   "language": "",
   "name": "ir"
  },
  "language_info": {
   "codemirror_mode": "r",
   "file_extension": ".r",
   "mimetype": "text/x-r-source",
   "name": "R",
   "pygments_lexer": "r",
   "version": "3.2.0"
  }
 },
 "nbformat": 4,
 "nbformat_minor": 0
}
