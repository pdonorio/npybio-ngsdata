{
 "cells": [
  {
   "cell_type": "markdown",
   "metadata": {},
   "source": [
    "##Parsing ANNOVAR"
   ]
  },
  {
   "cell_type": "markdown",
   "metadata": {},
   "source": [
    "A new approach @CINECA\n",
    "\n",
    "* Using [mETL](https://github.com/ceumicrodata/mETL) package\n",
    "* Configuration file is in [YAML format](http://pyyaml.org/wiki/PyYAMLDocumentation) through python library"
   ]
  },
  {
   "cell_type": "code",
   "execution_count": 1,
   "metadata": {
    "collapsed": true
   },
   "outputs": [],
   "source": [
    "import yaml"
   ]
  },
  {
   "cell_type": "markdown",
   "metadata": {},
   "source": [
    "### YAML configuration with python code"
   ]
  },
  {
   "cell_type": "code",
   "execution_count": 2,
   "metadata": {
    "collapsed": false
   },
   "outputs": [],
   "source": [
    "# Create\n",
    "yfile = 'test.yml'\n",
    "ifile = 'test_annovar.hg19.tsv'\n",
    "\n",
    "data = { \n",
    "    'source': {\n",
    "        'resource': ifile, \n",
    "        'source': 'TSV', 'headerRow': 0, 'skipRows': 1,\n",
    "        'fields': [\n",
    "            {'map': 'Chr', 'name': 'chromosome', 'type': 'String'},\n",
    "        ]\n",
    "    },\n",
    "    'target': {\n",
    "        'type': 'Database',\n",
    "        'createTable': 'true', 'replaceTable': 'true', 'truncateTable': 'true',\n",
    "        'table': 'test', 'url': 'sqlite:///test.db',\n",
    "    }\n",
    "}\n"
   ]
  },
  {
   "cell_type": "code",
   "execution_count": 3,
   "metadata": {
    "collapsed": false
   },
   "outputs": [
    {
     "name": "stdout",
     "output_type": "stream",
     "text": [
      "source:\r\n",
      "  fields:\r\n",
      "  - map: Chr\r\n"
     ]
    }
   ],
   "source": [
    "# Write the file\n",
    "with open(yfile, 'w') as outfile:\n",
    "    outfile.write( yaml.dump(data, default_flow_style=False) )\n",
    "# print\n",
    "!head {yfile} -n 3"
   ]
  },
  {
   "cell_type": "markdown",
   "metadata": {},
   "source": [
    "### Execute the parser\n",
    "\n",
    "The following use the metl package to read the variants annotated and save it into a file database"
   ]
  },
  {
   "cell_type": "code",
   "execution_count": 4,
   "metadata": {
    "collapsed": false
   },
   "outputs": [],
   "source": [
    "# Prepare variables\n",
    "bin = \"metl\"\n",
    "# Execute via ipython\n",
    "! {bin} {yfile} "
   ]
  },
  {
   "cell_type": "markdown",
   "metadata": {},
   "source": [
    "### Use the database\n",
    "\n",
    "Read data in python and manipulate"
   ]
  },
  {
   "cell_type": "code",
   "execution_count": 5,
   "metadata": {
    "collapsed": true
   },
   "outputs": [],
   "source": [
    "import sqlite3 as lite"
   ]
  },
  {
   "cell_type": "markdown",
   "metadata": {},
   "source": [
    "\n",
    "\n",
    "\n",
    "\n"
   ]
  },
  {
   "cell_type": "markdown",
   "metadata": {},
   "source": [
    "# Final notes"
   ]
  },
  {
   "cell_type": "markdown",
   "metadata": {},
   "source": [
    "\n",
    "*Notes*\n",
    "\n",
    "- transformation with python function\n",
    "- manipulation (filters)\n",
    "- convert from db to excel for download ;)"
   ]
  }
 ],
 "metadata": {
  "kernelspec": {
   "display_name": "Python 2",
   "language": "python",
   "name": "python2"
  },
  "language_info": {
   "codemirror_mode": {
    "name": "ipython",
    "version": 2
   },
   "file_extension": ".py",
   "mimetype": "text/x-python",
   "name": "python",
   "nbconvert_exporter": "python",
   "pygments_lexer": "ipython2",
   "version": "2.7.9"
  }
 },
 "nbformat": 4,
 "nbformat_minor": 0
}
