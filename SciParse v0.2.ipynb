{
 "cells": [
  {
   "cell_type": "markdown",
   "metadata": {},
   "source": [
    "<hr></hr>\n",
    "Change this parameter to use it on your own file"
   ]
  },
  {
   "cell_type": "code",
   "execution_count": 51,
   "metadata": {
    "collapsed": true
   },
   "outputs": [],
   "source": [
    "ifile = 'test_annovar.hg19.tsv'"
   ]
  },
  {
   "cell_type": "markdown",
   "metadata": {},
   "source": [
    "<hr></hr>"
   ]
  },
  {
   "cell_type": "markdown",
   "metadata": {},
   "source": [
    "##Parsing ANNOVAR\n",
    "A new approach @CINECA"
   ]
  },
  {
   "cell_type": "markdown",
   "metadata": {},
   "source": [
    "\n",
    "* Using [mETL](https://github.com/ceumicrodata/mETL) package\n",
    "* Configuration file is in [YAML format](http://pyyaml.org/wiki/PyYAMLDocumentation) through python library"
   ]
  },
  {
   "cell_type": "markdown",
   "metadata": {},
   "source": [
    "### Define fields to be parsed"
   ]
  },
  {
   "cell_type": "code",
   "execution_count": 52,
   "metadata": {
    "collapsed": true
   },
   "outputs": [],
   "source": [
    "fields = [\n",
    "# Chromosome\n",
    "{'map': 'Chr', 'name': 'chromosome', 'type': 'String'},\n",
    "# Start\n",
    "{'map': 'Start', 'name': 'position', 'type': 'Float'},\n",
    "]"
   ]
  },
  {
   "cell_type": "markdown",
   "metadata": {},
   "source": [
    "### YAML configuration with python code"
   ]
  },
  {
   "cell_type": "markdown",
   "metadata": {},
   "source": [
    "Configuration for source and target after decisions on fields"
   ]
  },
  {
   "cell_type": "code",
   "execution_count": 53,
   "metadata": {
    "collapsed": false
   },
   "outputs": [],
   "source": [
    "# Create YAML configuration file automatically\n",
    "import yaml\n",
    "yfile = 'test.yml'\n",
    "sqlfile = 'test.db'\n",
    "table = 'test'\n",
    "# Init python dict\n",
    "data = {}\n",
    "# Input\n",
    "data['source'] = { 'resource': ifile, 'fields': fields, 'source': 'TSV', 'headerRow': 0, 'skipRows': 1}\n",
    "# Output\n",
    "data['target'] = {\n",
    "    'type': 'Database', 'createTable': 'true', 'replaceTable': 'true', 'truncateTable': 'true',\n",
    "    'table': table, 'url': 'sqlite:///' + sqlfile,\n",
    "}"
   ]
  },
  {
   "cell_type": "markdown",
   "metadata": {},
   "source": [
    "Write the files and check content"
   ]
  },
  {
   "cell_type": "code",
   "execution_count": 54,
   "metadata": {
    "collapsed": false
   },
   "outputs": [
    {
     "name": "stdout",
     "output_type": "stream",
     "text": [
      "Your configuration inside file 'test.yml' reaches 19 lines\n"
     ]
    }
   ],
   "source": [
    "# Write the file\n",
    "with open(yfile, 'w') as outfile:\n",
    "    outfile.write( yaml.dump(data, default_flow_style=False) )\n",
    "\n",
    "#!head {yfile} -n 3\n",
    "out = !! wc -l {yfile}\n",
    "print \"Your configuration inside file '\" + yfile + \"' reaches \" + out.s.split(\" \")[0] + \" lines\""
   ]
  },
  {
   "cell_type": "markdown",
   "metadata": {},
   "source": [
    "### Execute the parser\n",
    "\n",
    "The following use the *metl* package to read the variants annotated and save it into a file database"
   ]
  },
  {
   "cell_type": "code",
   "execution_count": 59,
   "metadata": {
    "collapsed": false
   },
   "outputs": [],
   "source": [
    "# Execute via ipython\n",
    "! metl {yfile} "
   ]
  },
  {
   "cell_type": "markdown",
   "metadata": {},
   "source": [
    "### Use the database\n",
    "\n",
    "Read data in python and manipulate"
   ]
  },
  {
   "cell_type": "code",
   "execution_count": 56,
   "metadata": {
    "collapsed": false
   },
   "outputs": [
    {
     "name": "stdout",
     "output_type": "stream",
     "text": [
      "Connected\n"
     ]
    }
   ],
   "source": [
    "# init\n",
    "import sqlite3 as lite\n",
    "conn = None\n",
    "# connect\n",
    "try:\n",
    "    conn = lite.connect(sqlfile)    \n",
    "    cur = conn.cursor()     \n",
    "except lite.Error, e:\n",
    "    #print \"Error %s:\" % e.args[0]\n",
    "    raise BaseException(\"No sql lite connection\", e)\n",
    "finally:\n",
    "    print \"Connected\""
   ]
  },
  {
   "cell_type": "code",
   "execution_count": 57,
   "metadata": {
    "collapsed": false
   },
   "outputs": [
    {
     "name": "stdout",
     "output_type": "stream",
     "text": [
      "(1, u'chr1', 10385471)\n"
     ]
    }
   ],
   "source": [
    "# Query\n",
    "query = \"SELECT * FROM \" + table\n",
    "cur.execute(query)\n",
    "print cur.fetchone()\n"
   ]
  },
  {
   "cell_type": "markdown",
   "metadata": {},
   "source": [
    "<hr></hr>"
   ]
  },
  {
   "cell_type": "markdown",
   "metadata": {},
   "source": [
    "\n",
    "* finale notes*\n",
    "\n",
    "- transformation with python function\n",
    "- manipulation (filters)\n",
    "- convert from db to excel for download ;)"
   ]
  },
  {
   "cell_type": "code",
   "execution_count": 58,
   "metadata": {
    "collapsed": false
   },
   "outputs": [],
   "source": [
    "# The end, release resources\n",
    "if conn:\n",
    "    conn.close()"
   ]
  }
 ],
 "metadata": {
  "kernelspec": {
   "display_name": "Python 2",
   "language": "python",
   "name": "python2"
  },
  "language_info": {
   "codemirror_mode": {
    "name": "ipython",
    "version": 2
   },
   "file_extension": ".py",
   "mimetype": "text/x-python",
   "name": "python",
   "nbconvert_exporter": "python",
   "pygments_lexer": "ipython2",
   "version": "2.7.9"
  }
 },
 "nbformat": 4,
 "nbformat_minor": 0
}
