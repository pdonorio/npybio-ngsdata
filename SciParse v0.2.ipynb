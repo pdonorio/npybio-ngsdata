{
 "cells": [
  {
   "cell_type": "code",
   "execution_count": 39,
   "metadata": {
    "collapsed": true
   },
   "outputs": [],
   "source": [
    "ifile = 'test_annovar.hg19.tsv'"
   ]
  },
  {
   "cell_type": "markdown",
   "metadata": {},
   "source": [
    "##Parsing ANNOVAR\n",
    "A new approach @CINECA"
   ]
  },
  {
   "cell_type": "markdown",
   "metadata": {},
   "source": [
    "\n",
    "* Using [mETL](https://github.com/ceumicrodata/mETL) package\n",
    "* Configuration file is in [YAML format](http://pyyaml.org/wiki/PyYAMLDocumentation) through python library"
   ]
  },
  {
   "cell_type": "code",
   "execution_count": 40,
   "metadata": {
    "collapsed": true
   },
   "outputs": [],
   "source": [
    "import yaml"
   ]
  },
  {
   "cell_type": "markdown",
   "metadata": {},
   "source": [
    "### Define fields to be parsed"
   ]
  },
  {
   "cell_type": "code",
   "execution_count": 41,
   "metadata": {
    "collapsed": true
   },
   "outputs": [],
   "source": [
    "fields = [\n",
    "# Chromosome\n",
    "{'map': 'Chr', 'name': 'chromosome', 'type': 'String'},\n",
    "# Start\n",
    "{'map': 'Start', 'name': 'position', 'type': 'Float'},\n",
    "]"
   ]
  },
  {
   "cell_type": "markdown",
   "metadata": {},
   "source": [
    "### YAML configuration with python code"
   ]
  },
  {
   "cell_type": "code",
   "execution_count": 42,
   "metadata": {
    "collapsed": false
   },
   "outputs": [],
   "source": [
    "# Create YAML configuration file automatically\n",
    "yfile = 'test.yml'\n",
    "sqlfile = 'test.db'\n",
    "table = 'test'\n",
    "# Init python dict\n",
    "data = {}\n",
    "# Input\n",
    "data['source'] = { 'resource': ifile, 'fields': fields, 'source': 'TSV', 'headerRow': 0, 'skipRows': 1}\n",
    "# Output\n",
    "data['target'] = {\n",
    "    'type': 'Database', 'createTable': 'true', 'replaceTable': 'true', 'truncateTable': 'true',\n",
    "    'table': table, 'url': 'sqlite:///' + sqlfile,\n",
    "}"
   ]
  },
  {
   "cell_type": "code",
   "execution_count": 43,
   "metadata": {
    "collapsed": false
   },
   "outputs": [
    {
     "name": "stdout",
     "output_type": "stream",
     "text": [
      "source:\r\n",
      "  fields:\r\n",
      "  - map: Chr\r\n"
     ]
    }
   ],
   "source": [
    "# Write the file\n",
    "with open(yfile, 'w') as outfile:\n",
    "    outfile.write( yaml.dump(data, default_flow_style=False) )\n",
    "# print\n",
    "!head {yfile} -n 3"
   ]
  },
  {
   "cell_type": "markdown",
   "metadata": {},
   "source": [
    "### Execute the parser\n",
    "\n",
    "The following use the metl package to read the variants annotated and save it into a file database"
   ]
  },
  {
   "cell_type": "code",
   "execution_count": 44,
   "metadata": {
    "collapsed": false
   },
   "outputs": [],
   "source": [
    "# Prepare variables\n",
    "bin = \"metl\"\n",
    "# Execute via ipython\n",
    "! {bin} {yfile} "
   ]
  },
  {
   "cell_type": "markdown",
   "metadata": {},
   "source": [
    "### Use the database\n",
    "\n",
    "Read data in python and manipulate"
   ]
  },
  {
   "cell_type": "code",
   "execution_count": 45,
   "metadata": {
    "collapsed": false
   },
   "outputs": [
    {
     "name": "stdout",
     "output_type": "stream",
     "text": [
      "Connected\n"
     ]
    }
   ],
   "source": [
    "# IMPORT\n",
    "import sqlite3 as lite\n",
    "conn = None\n",
    "\n",
    "try:\n",
    "    conn = lite.connect(sqlfile)    \n",
    "    cur = conn.cursor()     \n",
    "except lite.Error, e:\n",
    "    #print \"Error %s:\" % e.args[0]\n",
    "    raise BaseException(\"No sql lite connection\", e)\n",
    "finally:\n",
    "    print \"Connected\""
   ]
  },
  {
   "cell_type": "code",
   "execution_count": 46,
   "metadata": {
    "collapsed": false
   },
   "outputs": [
    {
     "name": "stdout",
     "output_type": "stream",
     "text": [
      "(1, u'chr1', 10385471)\n"
     ]
    }
   ],
   "source": [
    "# Query\n",
    "query = \"SELECT * FROM \" + table\n",
    "cur.execute(query)\n",
    "print cur.fetchone()\n"
   ]
  },
  {
   "cell_type": "markdown",
   "metadata": {},
   "source": [
    "\n",
    "\n",
    "\n",
    "\n"
   ]
  },
  {
   "cell_type": "code",
   "execution_count": 47,
   "metadata": {
    "collapsed": false
   },
   "outputs": [],
   "source": [
    "# The end, release resources\n",
    "if conn:\n",
    "    conn.close()"
   ]
  },
  {
   "cell_type": "markdown",
   "metadata": {},
   "source": [
    "# Final notes"
   ]
  },
  {
   "cell_type": "markdown",
   "metadata": {},
   "source": [
    "\n",
    "*Notes*\n",
    "\n",
    "- transformation with python function\n",
    "- manipulation (filters)\n",
    "- convert from db to excel for download ;)"
   ]
  }
 ],
 "metadata": {
  "kernelspec": {
   "display_name": "Python 2",
   "language": "python",
   "name": "python2"
  },
  "language_info": {
   "codemirror_mode": {
    "name": "ipython",
    "version": 2
   },
   "file_extension": ".py",
   "mimetype": "text/x-python",
   "name": "python",
   "nbconvert_exporter": "python",
   "pygments_lexer": "ipython2",
   "version": "2.7.9"
  }
 },
 "nbformat": 4,
 "nbformat_minor": 0
}
