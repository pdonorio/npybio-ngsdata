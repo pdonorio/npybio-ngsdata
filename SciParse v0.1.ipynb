{
 "cells": [
  {
   "cell_type": "markdown",
   "metadata": {},
   "source": [
    "##Parsing ANNOVAR"
   ]
  },
  {
   "cell_type": "markdown",
   "metadata": {},
   "source": [
    "A new approach @CINECA\n",
    "\n",
    "Using [mETL](https://github.com/ceumicrodata/mETL) package"
   ]
  },
  {
   "cell_type": "code",
   "execution_count": 3,
   "metadata": {
    "collapsed": true
   },
   "outputs": [],
   "source": [
    "# Please run as administrator on your server:\n",
    "! pip install mETL"
   ]
  },
  {
   "cell_type": "markdown",
   "metadata": {},
   "source": [
    "Configuration file is in [YAML format](http://pyyaml.org/wiki/PyYAMLDocumentation) through python library"
   ]
  },
  {
   "cell_type": "code",
   "execution_count": 1,
   "metadata": {
    "collapsed": true
   },
   "outputs": [],
   "source": [
    "import yaml"
   ]
  },
  {
   "cell_type": "markdown",
   "metadata": {},
   "source": [
    "### 1. Generating configuration"
   ]
  },
  {
   "cell_type": "markdown",
   "metadata": {},
   "source": [
    "Create a config.yml file to handle our CSV output obtained from ANNOVAR"
   ]
  },
  {
   "cell_type": "code",
   "execution_count": 28,
   "metadata": {
    "collapsed": false
   },
   "outputs": [],
   "source": [
    "# Prepare variables\n",
    "c1 = \"metl-generate\"\n",
    "csvinput = \"A420_7_tru.annotated.hg19_multianno.csv\"\n",
    "config = \"config.yml\"\n",
    "options = \"--resource \" + csvinput + \" --headerRow 0 --skipRows 1 csv \" + config\n",
    "# Execute via ipython\n",
    "! {c1} {options} "
   ]
  },
  {
   "cell_type": "markdown",
   "metadata": {},
   "source": [
    "Check what we created"
   ]
  },
  {
   "cell_type": "code",
   "execution_count": 29,
   "metadata": {
    "collapsed": false
   },
   "outputs": [
    {
     "name": "stdout",
     "output_type": "stream",
     "text": [
      "source:\r\n",
      "  fields:\r\n",
      "  - map: genomicSuperDups\r\n",
      "    name: genomicSuperDups\r\n",
      "    type: String\r\n",
      "  - map: esp6500si_all\r\n",
      "    name: esp6500si_all\r\n",
      "    type: String\r\n",
      "  - map: End\r\n",
      "    name: End\r\n"
     ]
    }
   ],
   "source": [
    "! head {config} -n 10"
   ]
  },
  {
   "cell_type": "markdown",
   "metadata": {},
   "source": [
    "### 2. Modify configuration"
   ]
  },
  {
   "cell_type": "markdown",
   "metadata": {},
   "source": [
    "Use the notebook explorer to open and edit the config file"
   ]
  },
  {
   "cell_type": "code",
   "execution_count": 27,
   "metadata": {
    "collapsed": false
   },
   "outputs": [
    {
     "name": "stdout",
     "output_type": "stream",
     "text": [
      "Modify file config.yml\n"
     ]
    }
   ],
   "source": [
    "print \"Modify file\", config"
   ]
  },
  {
   "cell_type": "markdown",
   "metadata": {},
   "source": [
    "### 3. Write configuration with your code"
   ]
  },
  {
   "cell_type": "code",
   "execution_count": 11,
   "metadata": {
    "collapsed": false
   },
   "outputs": [
    {
     "name": "stdout",
     "output_type": "stream",
     "text": [
      "source:\r\n",
      "  fields:\r\n",
      "  - map: Chr\r\n",
      "    name: chromosome\r\n",
      "    type: String\r\n",
      "  headerRow: 0\r\n",
      "  resource: A542_A08_14.annotated.hg19_multianno.txt\r\n",
      "  skipRows: 1\r\n",
      "  source: TSV\r\n",
      "target:\r\n"
     ]
    }
   ],
   "source": [
    "# Create\n",
    "yfile = 'test.yml'\n",
    "ifile = 'A542_A08_14.annotated.hg19_multianno.txt'\n",
    "\n",
    "data = { \n",
    "    'source': {\n",
    "        'resource': ifile, \n",
    "        'source': 'TSV', 'headerRow': 0, 'skipRows': 1,\n",
    "        'fields': [\n",
    "            {'map': 'Chr', 'name': 'chromosome', 'type': 'String'},\n",
    "        ]\n",
    "    },\n",
    "    'target': {\n",
    "        'type': 'Database',\n",
    "        'createTable': 'true', 'replaceTable': 'true', 'truncateTable': 'true',\n",
    "        'table': 'test', 'url': 'sqlite:///test.db',\n",
    "    }\n",
    "}\n",
    "\n",
    "with open(yfile, 'w') as outfile:\n",
    "    outfile.write( yaml.dump(data, default_flow_style=False) )\n",
    "    \n",
    "# print\n",
    "!head {yfile}"
   ]
  },
  {
   "cell_type": "code",
   "execution_count": 12,
   "metadata": {
    "collapsed": false
   },
   "outputs": [],
   "source": [
    "# Prepare variables\n",
    "bin = \"metl\"\n",
    "# Execute via ipython\n",
    "! {bin} {yfile} "
   ]
  },
  {
   "cell_type": "markdown",
   "metadata": {},
   "source": [
    "# The end"
   ]
  },
  {
   "cell_type": "markdown",
   "metadata": {},
   "source": [
    "\n",
    "*Notes*\n",
    "\n",
    "- transformation with python function\n",
    "- manipulation (filters)\n",
    "- convert from db to excel for download ;)"
   ]
  }
 ],
 "metadata": {
  "kernelspec": {
   "display_name": "Python 2",
   "language": "python",
   "name": "python2"
  },
  "language_info": {
   "codemirror_mode": {
    "name": "ipython",
    "version": 2
   },
   "file_extension": ".py",
   "mimetype": "text/x-python",
   "name": "python",
   "nbconvert_exporter": "python",
   "pygments_lexer": "ipython2",
   "version": "2.7.9"
  }
 },
 "nbformat": 4,
 "nbformat_minor": 0
}
